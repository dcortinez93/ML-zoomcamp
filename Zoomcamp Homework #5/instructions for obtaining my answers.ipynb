{
 "cells": [
  {
   "cell_type": "markdown",
   "id": "6800f15b",
   "metadata": {},
   "source": [
    "Q1"
   ]
  },
  {
   "cell_type": "markdown",
   "id": "16fd5230",
   "metadata": {},
   "source": [
    "run on cmd:\n",
    "\n",
    "pip install pipenv\n",
    "pipenv --version"
   ]
  },
  {
   "cell_type": "markdown",
   "id": "91950af1",
   "metadata": {},
   "source": [
    "Q2"
   ]
  },
  {
   "cell_type": "markdown",
   "id": "6a020770",
   "metadata": {},
   "source": [
    "run on cmd:\n",
    "pipenv install scikit-learn"
   ]
  },
  {
   "cell_type": "markdown",
   "id": "dcc2c18b",
   "metadata": {},
   "source": [
    "Q3"
   ]
  },
  {
   "cell_type": "markdown",
   "id": "f86e506c",
   "metadata": {},
   "source": [
    "run on cmd:\n",
    "python q3.py"
   ]
  },
  {
   "cell_type": "markdown",
   "id": "f7beb8fb",
   "metadata": {},
   "source": [
    "Q4"
   ]
  },
  {
   "cell_type": "markdown",
   "id": "620527f9",
   "metadata": {},
   "source": [
    "run on cmd:\n",
    "python predict.py\n",
    "pip install waitress\n",
    "waitress-serve --listen=0.0.0.0:9696 predict:app\n",
    "        \n",
    "run on another cmd:\n",
    "python request_q4.py"
   ]
  },
  {
   "cell_type": "markdown",
   "id": "fb41b133",
   "metadata": {},
   "source": [
    "Q5"
   ]
  },
  {
   "cell_type": "markdown",
   "id": "3dffde22",
   "metadata": {},
   "source": [
    "run on cmd:\n",
    "docker build -t zoomcamp-test -f Dockerfile.txt .    "
   ]
  },
  {
   "cell_type": "markdown",
   "id": "ab18e5fb",
   "metadata": {},
   "source": [
    "Q6"
   ]
  },
  {
   "cell_type": "markdown",
   "id": "3c5d445d",
   "metadata": {},
   "source": [
    "run on cmd:\n",
    "docker build -t zoomcamp-test -f Dockerfile.txt .    \n",
    "docker run -it --rm -p 9696:9696 zoomcamp-test\n",
    "\n",
    "run on another cmd:\n",
    "python request_q6.py"
   ]
  }
 ],
 "metadata": {
  "kernelspec": {
   "display_name": "Python 3 (ipykernel)",
   "language": "python",
   "name": "python3"
  },
  "language_info": {
   "codemirror_mode": {
    "name": "ipython",
    "version": 3
   },
   "file_extension": ".py",
   "mimetype": "text/x-python",
   "name": "python",
   "nbconvert_exporter": "python",
   "pygments_lexer": "ipython3",
   "version": "3.8.11"
  }
 },
 "nbformat": 4,
 "nbformat_minor": 5
}
