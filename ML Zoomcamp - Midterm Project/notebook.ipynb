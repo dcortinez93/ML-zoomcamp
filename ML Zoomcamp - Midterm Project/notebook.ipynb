{
 "cells": [
  {
   "cell_type": "markdown",
   "id": "29b5ff62",
   "metadata": {},
   "source": [
    "## Midterm Project"
   ]
  },
  {
   "cell_type": "code",
   "execution_count": 1,
   "id": "2318b52d",
   "metadata": {},
   "outputs": [],
   "source": [
    "import pandas as pd\n",
    "import numpy as np\n",
    "import matplotlib.pyplot as plt\n",
    "import seaborn as sns\n",
    "from sklearn.model_selection import train_test_split\n",
    "from sklearn.metrics import mutual_info_score\n",
    "from sklearn.feature_extraction import DictVectorizer\n",
    "from sklearn.linear_model import LinearRegression, Ridge\n",
    "from sklearn.metrics import mean_squared_error, r2_score\n",
    "from sklearn.tree import DecisionTreeRegressor\n",
    "from sklearn.ensemble import RandomForestRegressor, ExtraTreesRegressor\n",
    "\n",
    "%matplotlib inline\n"
   ]
  },
  {
   "cell_type": "markdown",
   "id": "8835f639",
   "metadata": {},
   "source": [
    "## Data Preparation"
   ]
  },
  {
   "cell_type": "code",
   "execution_count": 2,
   "id": "ecbcc989",
   "metadata": {},
   "outputs": [],
   "source": [
    "df = pd.read_csv('insurance.csv')"
   ]
  },
  {
   "cell_type": "code",
   "execution_count": 3,
   "id": "25987f50",
   "metadata": {},
   "outputs": [
    {
     "data": {
      "text/html": [
       "<div>\n",
       "<style scoped>\n",
       "    .dataframe tbody tr th:only-of-type {\n",
       "        vertical-align: middle;\n",
       "    }\n",
       "\n",
       "    .dataframe tbody tr th {\n",
       "        vertical-align: top;\n",
       "    }\n",
       "\n",
       "    .dataframe thead th {\n",
       "        text-align: right;\n",
       "    }\n",
       "</style>\n",
       "<table border=\"1\" class=\"dataframe\">\n",
       "  <thead>\n",
       "    <tr style=\"text-align: right;\">\n",
       "      <th></th>\n",
       "      <th>age</th>\n",
       "      <th>sex</th>\n",
       "      <th>bmi</th>\n",
       "      <th>children</th>\n",
       "      <th>smoker</th>\n",
       "      <th>region</th>\n",
       "      <th>charges</th>\n",
       "    </tr>\n",
       "  </thead>\n",
       "  <tbody>\n",
       "    <tr>\n",
       "      <th>0</th>\n",
       "      <td>19</td>\n",
       "      <td>female</td>\n",
       "      <td>27.900</td>\n",
       "      <td>0</td>\n",
       "      <td>yes</td>\n",
       "      <td>southwest</td>\n",
       "      <td>16884.92400</td>\n",
       "    </tr>\n",
       "    <tr>\n",
       "      <th>1</th>\n",
       "      <td>18</td>\n",
       "      <td>male</td>\n",
       "      <td>33.770</td>\n",
       "      <td>1</td>\n",
       "      <td>no</td>\n",
       "      <td>southeast</td>\n",
       "      <td>1725.55230</td>\n",
       "    </tr>\n",
       "    <tr>\n",
       "      <th>2</th>\n",
       "      <td>28</td>\n",
       "      <td>male</td>\n",
       "      <td>33.000</td>\n",
       "      <td>3</td>\n",
       "      <td>no</td>\n",
       "      <td>southeast</td>\n",
       "      <td>4449.46200</td>\n",
       "    </tr>\n",
       "    <tr>\n",
       "      <th>3</th>\n",
       "      <td>33</td>\n",
       "      <td>male</td>\n",
       "      <td>22.705</td>\n",
       "      <td>0</td>\n",
       "      <td>no</td>\n",
       "      <td>northwest</td>\n",
       "      <td>21984.47061</td>\n",
       "    </tr>\n",
       "    <tr>\n",
       "      <th>4</th>\n",
       "      <td>32</td>\n",
       "      <td>male</td>\n",
       "      <td>28.880</td>\n",
       "      <td>0</td>\n",
       "      <td>no</td>\n",
       "      <td>northwest</td>\n",
       "      <td>3866.85520</td>\n",
       "    </tr>\n",
       "  </tbody>\n",
       "</table>\n",
       "</div>"
      ],
      "text/plain": [
       "   age     sex     bmi  children smoker     region      charges\n",
       "0   19  female  27.900         0    yes  southwest  16884.92400\n",
       "1   18    male  33.770         1     no  southeast   1725.55230\n",
       "2   28    male  33.000         3     no  southeast   4449.46200\n",
       "3   33    male  22.705         0     no  northwest  21984.47061\n",
       "4   32    male  28.880         0     no  northwest   3866.85520"
      ]
     },
     "execution_count": 3,
     "metadata": {},
     "output_type": "execute_result"
    }
   ],
   "source": [
    "df.head()"
   ]
  },
  {
   "cell_type": "code",
   "execution_count": 4,
   "id": "e8b10abb",
   "metadata": {},
   "outputs": [
    {
     "data": {
      "text/plain": [
       "age           int64\n",
       "sex          object\n",
       "bmi         float64\n",
       "children      int64\n",
       "smoker       object\n",
       "region       object\n",
       "charges     float64\n",
       "dtype: object"
      ]
     },
     "execution_count": 4,
     "metadata": {},
     "output_type": "execute_result"
    }
   ],
   "source": [
    "df.dtypes"
   ]
  },
  {
   "cell_type": "code",
   "execution_count": 5,
   "id": "69382cd4",
   "metadata": {},
   "outputs": [],
   "source": [
    "numerical_columns = [\"age\",\"bmi\",\"children\"]\n",
    "categorical_columns = [\"sex\",\"smoker\",\"region\"]\n",
    "columns = numerical_columns + categorical_columns"
   ]
  },
  {
   "cell_type": "code",
   "execution_count": 6,
   "id": "8d54ce38",
   "metadata": {},
   "outputs": [
    {
     "data": {
      "text/plain": [
       "False    1337\n",
       "True        1\n",
       "dtype: int64"
      ]
     },
     "execution_count": 6,
     "metadata": {},
     "output_type": "execute_result"
    }
   ],
   "source": [
    "df.duplicated().value_counts()"
   ]
  },
  {
   "cell_type": "code",
   "execution_count": 7,
   "id": "9877a9bd",
   "metadata": {},
   "outputs": [],
   "source": [
    "#\"In general, try to avoid having duplicates across train-validation-test splits\"\n",
    "df = df.drop_duplicates()"
   ]
  },
  {
   "cell_type": "code",
   "execution_count": 8,
   "id": "f3485f53",
   "metadata": {},
   "outputs": [],
   "source": [
    "#Setting up the validation framework\n",
    "df_full_train, df_test = train_test_split(df, test_size=0.2, random_state=1)\n",
    "df_train, df_val = train_test_split(df_full_train, test_size=0.25, random_state=1)"
   ]
  },
  {
   "cell_type": "code",
   "execution_count": 9,
   "id": "77799308",
   "metadata": {},
   "outputs": [],
   "source": [
    "df_train = df_train.reset_index(drop=True)\n",
    "df_val = df_val.reset_index(drop=True)\n",
    "df_test = df_test.reset_index(drop=True)\n",
    "df_full_train = df_full_train.reset_index(drop=True)"
   ]
  },
  {
   "cell_type": "code",
   "execution_count": 10,
   "id": "ab4e6ef4",
   "metadata": {},
   "outputs": [],
   "source": [
    "y_train = df_train.charges.values\n",
    "y_val = df_val.charges.values\n",
    "y_full_train = df_full_train.charges.values\n",
    "y_test = df_test.charges.values\n",
    "\n",
    "del df_train['charges']\n",
    "del df_val['charges']\n",
    "del df_test['charges']"
   ]
  },
  {
   "cell_type": "markdown",
   "id": "298f0985",
   "metadata": {},
   "source": [
    "## EDA"
   ]
  },
  {
   "cell_type": "code",
   "execution_count": 11,
   "id": "54d5b03f",
   "metadata": {},
   "outputs": [
    {
     "name": "stdout",
     "output_type": "stream",
     "text": [
      "<class 'pandas.core.frame.DataFrame'>\n",
      "RangeIndex: 1069 entries, 0 to 1068\n",
      "Data columns (total 7 columns):\n",
      " #   Column    Non-Null Count  Dtype  \n",
      "---  ------    --------------  -----  \n",
      " 0   age       1069 non-null   int64  \n",
      " 1   sex       1069 non-null   object \n",
      " 2   bmi       1069 non-null   float64\n",
      " 3   children  1069 non-null   int64  \n",
      " 4   smoker    1069 non-null   object \n",
      " 5   region    1069 non-null   object \n",
      " 6   charges   1069 non-null   float64\n",
      "dtypes: float64(2), int64(2), object(3)\n",
      "memory usage: 58.6+ KB\n"
     ]
    }
   ],
   "source": [
    "df_full_train.info()"
   ]
  },
  {
   "cell_type": "code",
   "execution_count": 12,
   "id": "79867de6",
   "metadata": {},
   "outputs": [
    {
     "name": "stdout",
     "output_type": "stream",
     "text": [
      "age\n",
      "Number of unique values : 47\n",
      "\n",
      "sex\n",
      "Number of unique values : 2\n",
      "\n",
      "bmi\n",
      "Number of unique values : 548\n",
      "\n",
      "children\n",
      "Number of unique values : 6\n",
      "\n",
      "smoker\n",
      "Number of unique values : 2\n",
      "\n",
      "region\n",
      "Number of unique values : 4\n",
      "\n",
      "charges\n",
      "Number of unique values : 1337\n",
      "\n"
     ]
    }
   ],
   "source": [
    "for col in df_full_train.columns:\n",
    "    print(col)\n",
    "    print(f\"Number of unique values : {df[col].nunique()}\")\n",
    "    print()"
   ]
  },
  {
   "cell_type": "code",
   "execution_count": 13,
   "id": "22f1a4c1",
   "metadata": {},
   "outputs": [
    {
     "data": {
      "text/plain": [
       "<AxesSubplot:xlabel='charges', ylabel='Count'>"
      ]
     },
     "execution_count": 13,
     "metadata": {},
     "output_type": "execute_result"
    },
    {
     "data": {
      "image/png": "[encoded data removed]",
      "text/plain": [
       "<Figure size 432x288 with 1 Axes>"
      ]
     },
     "metadata": {
      "needs_background": "light"
     },
     "output_type": "display_data"
    }
   ],
   "source": [
    "#Distribution of charges\n",
    "sns.histplot(df_full_train.charges, bins=50)"
   ]
  },
  {
   "cell_type": "code",
   "execution_count": 14,
   "id": "cc26c7f9",
   "metadata": {},
   "outputs": [
    {
     "data": {
      "text/plain": [
       "<AxesSubplot:xlabel='charges', ylabel='Count'>"
      ]
     },
     "execution_count": 14,
     "metadata": {},
     "output_type": "execute_result"
    },
    {
     "data": {
      "image/png": "[encoded data removed]",
      "text/plain": [
       "<Figure size 432x288 with 1 Axes>"
      ]
     },
     "metadata": {
      "needs_background": "light"
     },
     "output_type": "display_data"
    }
   ],
   "source": [
    "#Solving the Long Tail\n",
    "charge_logs = np.log1p(df_full_train.charges)\n",
    "sns.histplot(charge_logs, bins=50)"
   ]
  },
  {
   "cell_type": "code",
   "execution_count": 15,
   "id": "c7ed6eb1",
   "metadata": {},
   "outputs": [],
   "source": [
    "#As a result, charges should be logaritmic\n",
    "y_train = np.log1p(y_train)\n",
    "y_val = np.log1p(y_val)\n",
    "y_full_train = np.log1p(y_full_train)\n",
    "y_test = np.log1p(y_test)"
   ]
  },
  {
   "cell_type": "code",
   "execution_count": 16,
   "id": "39050ca8",
   "metadata": {},
   "outputs": [
    {
     "data": {
      "text/html": [
       "<div>\n",
       "<style scoped>\n",
       "    .dataframe tbody tr th:only-of-type {\n",
       "        vertical-align: middle;\n",
       "    }\n",
       "\n",
       "    .dataframe tbody tr th {\n",
       "        vertical-align: top;\n",
       "    }\n",
       "\n",
       "    .dataframe thead th {\n",
       "        text-align: right;\n",
       "    }\n",
       "</style>\n",
       "<table border=\"1\" class=\"dataframe\">\n",
       "  <thead>\n",
       "    <tr style=\"text-align: right;\">\n",
       "      <th></th>\n",
       "      <th>age</th>\n",
       "      <th>bmi</th>\n",
       "      <th>children</th>\n",
       "      <th>charges</th>\n",
       "    </tr>\n",
       "  </thead>\n",
       "  <tbody>\n",
       "    <tr>\n",
       "      <th>count</th>\n",
       "      <td>1337.0</td>\n",
       "      <td>1337.0</td>\n",
       "      <td>1337.0</td>\n",
       "      <td>1337.0</td>\n",
       "    </tr>\n",
       "    <tr>\n",
       "      <th>mean</th>\n",
       "      <td>39.0</td>\n",
       "      <td>31.0</td>\n",
       "      <td>1.0</td>\n",
       "      <td>13279.0</td>\n",
       "    </tr>\n",
       "    <tr>\n",
       "      <th>std</th>\n",
       "      <td>14.0</td>\n",
       "      <td>6.0</td>\n",
       "      <td>1.0</td>\n",
       "      <td>12110.0</td>\n",
       "    </tr>\n",
       "    <tr>\n",
       "      <th>min</th>\n",
       "      <td>18.0</td>\n",
       "      <td>16.0</td>\n",
       "      <td>0.0</td>\n",
       "      <td>1122.0</td>\n",
       "    </tr>\n",
       "    <tr>\n",
       "      <th>25%</th>\n",
       "      <td>27.0</td>\n",
       "      <td>26.0</td>\n",
       "      <td>0.0</td>\n",
       "      <td>4746.0</td>\n",
       "    </tr>\n",
       "    <tr>\n",
       "      <th>50%</th>\n",
       "      <td>39.0</td>\n",
       "      <td>30.0</td>\n",
       "      <td>1.0</td>\n",
       "      <td>9386.0</td>\n",
       "    </tr>\n",
       "    <tr>\n",
       "      <th>75%</th>\n",
       "      <td>51.0</td>\n",
       "      <td>35.0</td>\n",
       "      <td>2.0</td>\n",
       "      <td>16658.0</td>\n",
       "    </tr>\n",
       "    <tr>\n",
       "      <th>max</th>\n",
       "      <td>64.0</td>\n",
       "      <td>53.0</td>\n",
       "      <td>5.0</td>\n",
       "      <td>63770.0</td>\n",
       "    </tr>\n",
       "  </tbody>\n",
       "</table>\n",
       "</div>"
      ],
      "text/plain": [
       "          age     bmi  children  charges\n",
       "count  1337.0  1337.0    1337.0   1337.0\n",
       "mean     39.0    31.0       1.0  13279.0\n",
       "std      14.0     6.0       1.0  12110.0\n",
       "min      18.0    16.0       0.0   1122.0\n",
       "25%      27.0    26.0       0.0   4746.0\n",
       "50%      39.0    30.0       1.0   9386.0\n",
       "75%      51.0    35.0       2.0  16658.0\n",
       "max      64.0    53.0       5.0  63770.0"
      ]
     },
     "execution_count": 16,
     "metadata": {},
     "output_type": "execute_result"
    }
   ],
   "source": [
    "df.describe().round()"
   ]
  },
  {
   "cell_type": "code",
   "execution_count": 17,
   "id": "35d2d654",
   "metadata": {},
   "outputs": [
    {
     "name": "stderr",
     "output_type": "stream",
     "text": [
      "C:\\Users\\DIEGOC~1\\AppData\\Local\\Temp/ipykernel_16116/101839538.py:3: UserWarning: To output multiple subplots, the figure containing the passed axes is being cleared\n",
      "  df.hist(bins=100, ax=ax, layout=(3, 1), column=numerical_columns)\n"
     ]
    },
    {
     "data": {
      "image/png": "[encoded data removed]",
      "text/plain": [
       "<Figure size 1080x720 with 3 Axes>"
      ]
     },
     "metadata": {
      "needs_background": "light"
     },
     "output_type": "display_data"
    }
   ],
   "source": [
    "fig = plt.figure(figsize=(15,10))\n",
    "ax = plt.gca()\n",
    "df.hist(bins=100, ax=ax, layout=(3, 1), column=numerical_columns)\n",
    "plt.tight_layout()\n",
    "plt.show()"
   ]
  },
  {
   "cell_type": "code",
   "execution_count": 18,
   "id": "c604b360",
   "metadata": {},
   "outputs": [
    {
     "data": {
      "text/html": [
       "<div>\n",
       "<style scoped>\n",
       "    .dataframe tbody tr th:only-of-type {\n",
       "        vertical-align: middle;\n",
       "    }\n",
       "\n",
       "    .dataframe tbody tr th {\n",
       "        vertical-align: top;\n",
       "    }\n",
       "\n",
       "    .dataframe thead th {\n",
       "        text-align: right;\n",
       "    }\n",
       "</style>\n",
       "<table border=\"1\" class=\"dataframe\">\n",
       "  <thead>\n",
       "    <tr style=\"text-align: right;\">\n",
       "      <th></th>\n",
       "      <th>age</th>\n",
       "      <th>bmi</th>\n",
       "      <th>children</th>\n",
       "    </tr>\n",
       "  </thead>\n",
       "  <tbody>\n",
       "    <tr>\n",
       "      <th>count</th>\n",
       "      <td>1069.000000</td>\n",
       "      <td>1069.000000</td>\n",
       "      <td>1069.000000</td>\n",
       "    </tr>\n",
       "    <tr>\n",
       "      <th>mean</th>\n",
       "      <td>39.166511</td>\n",
       "      <td>30.622736</td>\n",
       "      <td>1.101964</td>\n",
       "    </tr>\n",
       "    <tr>\n",
       "      <th>std</th>\n",
       "      <td>13.994326</td>\n",
       "      <td>6.009016</td>\n",
       "      <td>1.197644</td>\n",
       "    </tr>\n",
       "    <tr>\n",
       "      <th>min</th>\n",
       "      <td>18.000000</td>\n",
       "      <td>15.960000</td>\n",
       "      <td>0.000000</td>\n",
       "    </tr>\n",
       "    <tr>\n",
       "      <th>25%</th>\n",
       "      <td>27.000000</td>\n",
       "      <td>26.315000</td>\n",
       "      <td>0.000000</td>\n",
       "    </tr>\n",
       "    <tr>\n",
       "      <th>50%</th>\n",
       "      <td>39.000000</td>\n",
       "      <td>30.210000</td>\n",
       "      <td>1.000000</td>\n",
       "    </tr>\n",
       "    <tr>\n",
       "      <th>75%</th>\n",
       "      <td>51.000000</td>\n",
       "      <td>34.580000</td>\n",
       "      <td>2.000000</td>\n",
       "    </tr>\n",
       "    <tr>\n",
       "      <th>max</th>\n",
       "      <td>64.000000</td>\n",
       "      <td>53.130000</td>\n",
       "      <td>5.000000</td>\n",
       "    </tr>\n",
       "  </tbody>\n",
       "</table>\n",
       "</div>"
      ],
      "text/plain": [
       "               age          bmi     children\n",
       "count  1069.000000  1069.000000  1069.000000\n",
       "mean     39.166511    30.622736     1.101964\n",
       "std      13.994326     6.009016     1.197644\n",
       "min      18.000000    15.960000     0.000000\n",
       "25%      27.000000    26.315000     0.000000\n",
       "50%      39.000000    30.210000     1.000000\n",
       "75%      51.000000    34.580000     2.000000\n",
       "max      64.000000    53.130000     5.000000"
      ]
     },
     "execution_count": 18,
     "metadata": {},
     "output_type": "execute_result"
    }
   ],
   "source": [
    "#Correlation\n",
    "df_numeric = df_full_train.copy()\n",
    "data_numeric = df_numeric.drop([\"charges\"]+categorical_columns, axis=1)\n",
    "data_numeric.describe()"
   ]
  },
  {
   "cell_type": "code",
   "execution_count": 19,
   "id": "5dd4c4d0",
   "metadata": {},
   "outputs": [
    {
     "data": {
      "text/html": [
       "<div>\n",
       "<style scoped>\n",
       "    .dataframe tbody tr th:only-of-type {\n",
       "        vertical-align: middle;\n",
       "    }\n",
       "\n",
       "    .dataframe tbody tr th {\n",
       "        vertical-align: top;\n",
       "    }\n",
       "\n",
       "    .dataframe thead th {\n",
       "        text-align: right;\n",
       "    }\n",
       "</style>\n",
       "<table border=\"1\" class=\"dataframe\">\n",
       "  <thead>\n",
       "    <tr style=\"text-align: right;\">\n",
       "      <th></th>\n",
       "      <th>age</th>\n",
       "      <th>bmi</th>\n",
       "      <th>children</th>\n",
       "    </tr>\n",
       "  </thead>\n",
       "  <tbody>\n",
       "    <tr>\n",
       "      <th>age</th>\n",
       "      <td>1.000000</td>\n",
       "      <td>0.117425</td>\n",
       "      <td>0.02636</td>\n",
       "    </tr>\n",
       "    <tr>\n",
       "      <th>bmi</th>\n",
       "      <td>0.117425</td>\n",
       "      <td>1.000000</td>\n",
       "      <td>-0.00120</td>\n",
       "    </tr>\n",
       "    <tr>\n",
       "      <th>children</th>\n",
       "      <td>0.026360</td>\n",
       "      <td>-0.001200</td>\n",
       "      <td>1.00000</td>\n",
       "    </tr>\n",
       "  </tbody>\n",
       "</table>\n",
       "</div>"
      ],
      "text/plain": [
       "               age       bmi  children\n",
       "age       1.000000  0.117425   0.02636\n",
       "bmi       0.117425  1.000000  -0.00120\n",
       "children  0.026360 -0.001200   1.00000"
      ]
     },
     "execution_count": 19,
     "metadata": {},
     "output_type": "execute_result"
    }
   ],
   "source": [
    "data_numeric.corr()"
   ]
  },
  {
   "cell_type": "code",
   "execution_count": 20,
   "id": "5d0a3a15",
   "metadata": {},
   "outputs": [
    {
     "data": {
      "image/png": "[encoded data removed]",
      "text/plain": [
       "<Figure size 216x216 with 2 Axes>"
      ]
     },
     "metadata": {
      "needs_background": "light"
     },
     "output_type": "display_data"
    }
   ],
   "source": [
    "plt.figure(figsize=(3,3))  \n",
    "sns.heatmap(data_numeric.corr(),annot=True,linewidths=.5, cmap=\"Blues\")\n",
    "plt.title('Heatmap showing correlations between numerical data')\n",
    "plt.show()"
   ]
  },
  {
   "cell_type": "code",
   "execution_count": 21,
   "id": "97e4f227",
   "metadata": {},
   "outputs": [
    {
     "data": {
      "text/html": [
       "<div>\n",
       "<style scoped>\n",
       "    .dataframe tbody tr th:only-of-type {\n",
       "        vertical-align: middle;\n",
       "    }\n",
       "\n",
       "    .dataframe tbody tr th {\n",
       "        vertical-align: top;\n",
       "    }\n",
       "\n",
       "    .dataframe thead th {\n",
       "        text-align: right;\n",
       "    }\n",
       "</style>\n",
       "<table border=\"1\" class=\"dataframe\">\n",
       "  <thead>\n",
       "    <tr style=\"text-align: right;\">\n",
       "      <th></th>\n",
       "      <th>correlation</th>\n",
       "    </tr>\n",
       "  </thead>\n",
       "  <tbody>\n",
       "    <tr>\n",
       "      <th>age</th>\n",
       "      <td>0.283212</td>\n",
       "    </tr>\n",
       "    <tr>\n",
       "      <th>bmi</th>\n",
       "      <td>0.207291</td>\n",
       "    </tr>\n",
       "    <tr>\n",
       "      <th>children</th>\n",
       "      <td>0.074667</td>\n",
       "    </tr>\n",
       "  </tbody>\n",
       "</table>\n",
       "</div>"
      ],
      "text/plain": [
       "          correlation\n",
       "age          0.283212\n",
       "bmi          0.207291\n",
       "children     0.074667"
      ]
     },
     "execution_count": 21,
     "metadata": {},
     "output_type": "execute_result"
    }
   ],
   "source": [
    "#Correlation of numerical features with the target\n",
    "df_full_train[numerical_columns].corrwith(df_full_train.charges).to_frame('correlation').sort_values('correlation',ascending = False)"
   ]
  },
  {
   "cell_type": "code",
   "execution_count": 22,
   "id": "7e833aa7",
   "metadata": {},
   "outputs": [],
   "source": [
    "#To use mutual information we need to transform the numerical data into categorical \n",
    "qcharges = pd.qcut(y_full_train, q=10)"
   ]
  },
  {
   "cell_type": "code",
   "execution_count": 23,
   "id": "00f7342b",
   "metadata": {},
   "outputs": [],
   "source": [
    "def calculate_mi(series):\n",
    "    return mutual_info_score(series, qcharges)\n",
    "\n",
    "df_mi = df_full_train[categorical_columns].apply(calculate_mi)\n",
    "df_mi = df_mi.sort_values(ascending=False).to_frame(name='MI')"
   ]
  },
  {
   "cell_type": "code",
   "execution_count": 24,
   "id": "1cfdfef8",
   "metadata": {},
   "outputs": [
    {
     "data": {
      "text/html": [
       "<div>\n",
       "<style scoped>\n",
       "    .dataframe tbody tr th:only-of-type {\n",
       "        vertical-align: middle;\n",
       "    }\n",
       "\n",
       "    .dataframe tbody tr th {\n",
       "        vertical-align: top;\n",
       "    }\n",
       "\n",
       "    .dataframe thead th {\n",
       "        text-align: right;\n",
       "    }\n",
       "</style>\n",
       "<table border=\"1\" class=\"dataframe\">\n",
       "  <thead>\n",
       "    <tr style=\"text-align: right;\">\n",
       "      <th></th>\n",
       "      <th>MI</th>\n",
       "    </tr>\n",
       "  </thead>\n",
       "  <tbody>\n",
       "    <tr>\n",
       "      <th>smoker</th>\n",
       "      <td>0.367450</td>\n",
       "    </tr>\n",
       "    <tr>\n",
       "      <th>region</th>\n",
       "      <td>0.016676</td>\n",
       "    </tr>\n",
       "    <tr>\n",
       "      <th>sex</th>\n",
       "      <td>0.008435</td>\n",
       "    </tr>\n",
       "  </tbody>\n",
       "</table>\n",
       "</div>"
      ],
      "text/plain": [
       "              MI\n",
       "smoker  0.367450\n",
       "region  0.016676\n",
       "sex     0.008435"
      ]
     },
     "execution_count": 24,
     "metadata": {},
     "output_type": "execute_result"
    }
   ],
   "source": [
    "df_mi"
   ]
  },
  {
   "cell_type": "code",
   "execution_count": 25,
   "id": "c3b9306b",
   "metadata": {},
   "outputs": [],
   "source": [
    "#One Hot Encoding\n",
    "train_dict = df_train[categorical_columns +numerical_columns].to_dict(orient='records')\n",
    "\n",
    "dv = DictVectorizer(sparse=False)\n",
    "dv.fit(train_dict)\n",
    "\n",
    "X_train = dv.transform(train_dict)"
   ]
  },
  {
   "cell_type": "markdown",
   "id": "4125c259",
   "metadata": {},
   "source": [
    "## Linear Regression"
   ]
  },
  {
   "cell_type": "code",
   "execution_count": 26,
   "id": "d5fcd728",
   "metadata": {},
   "outputs": [],
   "source": [
    "lr = LinearRegression()\n",
    "lr.fit(X_train, y_train)\n",
    "y_train_pred_lr = lr.predict(X_train)"
   ]
  },
  {
   "cell_type": "code",
   "execution_count": 27,
   "id": "339cf5d8",
   "metadata": {},
   "outputs": [],
   "source": [
    "val_dict = df_val[categorical_columns +numerical_columns].to_dict(orient='records')\n",
    "X_val = dv.transform(val_dict)\n",
    "y_val_pred_lr = lr.predict(X_val)"
   ]
  },
  {
   "cell_type": "code",
   "execution_count": 28,
   "id": "a97b3e57",
   "metadata": {},
   "outputs": [
    {
     "name": "stdout",
     "output_type": "stream",
     "text": [
      "MSE train data: 0.192\n",
      "R^2 train data: 0.765\n",
      "MSE val data: 0.219\n",
      "R^2 val data: 0.76\n"
     ]
    }
   ],
   "source": [
    "print(f\"MSE train data: {round((mean_squared_error(y_train,y_train_pred_lr)),3)}\")\n",
    "print(f\"R^2 train data: {round((r2_score(y_train,y_train_pred_lr)),3)}\")\n",
    "print(f\"MSE val data: {round((mean_squared_error(y_val,y_val_pred_lr)),3)}\")\n",
    "print(f\"R^2 val data: {round((r2_score(y_val,y_val_pred_lr)),3)}\")"
   ]
  },
  {
   "cell_type": "markdown",
   "id": "ab0bba13",
   "metadata": {},
   "source": [
    "## Parameter Turning LR "
   ]
  },
  {
   "cell_type": "code",
   "execution_count": 29,
   "id": "6e25894e",
   "metadata": {},
   "outputs": [
    {
     "name": "stdout",
     "output_type": "stream",
     "text": [
      "MSE train data: 0.192\n",
      "R^2 train data: 0.765\n",
      "MSE val data: 0.219\n",
      "R^2 val data: 0.76\n"
     ]
    }
   ],
   "source": [
    "#Parameter Tuning Linear Regression\n",
    "#fit_interceptbool, default=True\n",
    "#normalizebool, default=False\n",
    "#positivebool, default=False\n",
    "lr = LinearRegression(fit_intercept=False)\n",
    "lr.fit(X_train, y_train)\n",
    "y_train_pred_lr = lr.predict(X_train)\n",
    "X_val = dv.transform(val_dict)\n",
    "y_val_pred_lr = lr.predict(X_val)\n",
    "print(f\"MSE train data: {round((mean_squared_error(y_train,y_train_pred_lr)),3)}\")\n",
    "print(f\"R^2 train data: {round((r2_score(y_train,y_train_pred_lr)),3)}\")\n",
    "print(f\"MSE val data: {round((mean_squared_error(y_val,y_val_pred_lr)),3)}\")\n",
    "print(f\"R^2 val data: {round((r2_score(y_val,y_val_pred_lr)),3)}\")"
   ]
  },
  {
   "cell_type": "code",
   "execution_count": 30,
   "id": "3dd36c6f",
   "metadata": {},
   "outputs": [
    {
     "name": "stdout",
     "output_type": "stream",
     "text": [
      "MSE val data: 0.219\n",
      "R^2 val data: 0.76\n"
     ]
    }
   ],
   "source": [
    "lr = LinearRegression(normalize=True)\n",
    "lr.fit(X_train, y_train)\n",
    "y_train_pred_lr = lr.predict(X_train)\n",
    "X_val = dv.transform(val_dict)\n",
    "y_val_pred_lr = lr.predict(X_val)\n",
    "print(f\"MSE val data: {round((mean_squared_error(y_val,y_val_pred_lr)),3)}\")\n",
    "print(f\"R^2 val data: {round((r2_score(y_val,y_val_pred_lr)),3)}\")"
   ]
  },
  {
   "cell_type": "code",
   "execution_count": 31,
   "id": "4c942046",
   "metadata": {},
   "outputs": [
    {
     "name": "stdout",
     "output_type": "stream",
     "text": [
      "MSE val data: 0.219\n",
      "R^2 val data: 0.76\n"
     ]
    }
   ],
   "source": [
    "lr = LinearRegression(positive=True)\n",
    "lr.fit(X_train, y_train)\n",
    "y_train_pred_lr = lr.predict(X_train)\n",
    "X_val = dv.transform(val_dict)\n",
    "y_val_pred_lr = lr.predict(X_val)\n",
    "print(f\"MSE val data: {round((mean_squared_error(y_val,y_val_pred_lr)),3)}\")\n",
    "print(f\"R^2 val data: {round((r2_score(y_val,y_val_pred_lr)),3)}\")"
   ]
  },
  {
   "cell_type": "markdown",
   "id": "fc6c4742",
   "metadata": {},
   "source": [
    "Result: Default parameters"
   ]
  },
  {
   "cell_type": "markdown",
   "id": "0843fa77",
   "metadata": {},
   "source": [
    "## Ridge Regression"
   ]
  },
  {
   "cell_type": "code",
   "execution_count": 32,
   "id": "3bb6dded",
   "metadata": {},
   "outputs": [
    {
     "name": "stdout",
     "output_type": "stream",
     "text": [
      "MSE train data: 0.192\n",
      "R^2 train data: 0.765\n",
      "MSE val data: 0.22\n",
      "R^2 val data: 0.76\n"
     ]
    }
   ],
   "source": [
    "#RidgeRegression (regularized). Find the best regularization parameter for Ridge\n",
    "rr = Ridge()\n",
    "rr.fit(X_train, y_train)\n",
    "y_train_pred_rr = rr.predict(X_train)\n",
    "\n",
    "val_dict = df_val[categorical_columns +numerical_columns].to_dict(orient='records')\n",
    "X_val = dv.transform(val_dict)\n",
    "y_val_pred_rr = rr.predict(X_val)\n",
    "\n",
    "print(f\"MSE train data: {round((mean_squared_error(y_train,y_train_pred_rr)),3)}\")\n",
    "print(f\"R^2 train data: {round((r2_score(y_train,y_train_pred_rr)),3)}\")\n",
    "print(f\"MSE val data: {round((mean_squared_error(y_val,y_val_pred_rr)),3)}\")\n",
    "print(f\"R^2 val data: {round((r2_score(y_val,y_val_pred_rr)),3)}\")"
   ]
  },
  {
   "cell_type": "markdown",
   "id": "f788691d",
   "metadata": {},
   "source": [
    "## Parameter Tuning RR"
   ]
  },
  {
   "cell_type": "code",
   "execution_count": 33,
   "id": "5fc3a526",
   "metadata": {},
   "outputs": [
    {
     "name": "stdout",
     "output_type": "stream",
     "text": [
      "alpha:0\n",
      "MSE val data: 0.221\n",
      "R^2 val data: 0.758\n",
      "alpha:0.01\n",
      "MSE val data: 0.219\n",
      "R^2 val data: 0.76\n",
      "alpha:0.1\n",
      "MSE val data: 0.219\n",
      "R^2 val data: 0.76\n",
      "alpha:1\n",
      "MSE val data: 0.22\n",
      "R^2 val data: 0.76\n",
      "alpha:10\n",
      "MSE val data: 0.221\n",
      "R^2 val data: 0.758\n",
      "alpha:100\n",
      "MSE val data: 0.259\n",
      "R^2 val data: 0.717\n",
      "alpha:1000\n",
      "MSE val data: 0.502\n",
      "R^2 val data: 0.451\n"
     ]
    }
   ],
   "source": [
    "#Parameter Tuning Linear Regression\n",
    "#alpha, default=1.0\n",
    "#fit_intercept, default=True\n",
    "#normalize, default=False\n",
    "#solver{‘auto’, ‘svd’, ‘cholesky’, ‘lsqr’, ‘sparse_cg’, ‘sag’, ‘saga’, ‘lbfgs’}, default=’auto’\n",
    "#positive, default=False , Only ‘lbfgs’ solver is supported in this case.\n",
    "#random_state , RandomState instance, default=None Used when solver == ‘sag’ or ‘saga’ to shuffle the data. \n",
    "\n",
    "for a in [0, 0.01, 0.1, 1, 10, 100,1000]:\n",
    "    rr = Ridge(alpha=a)\n",
    "    rr.fit(X_train, y_train)\n",
    "    y_train_pred_rr = rr.predict(X_train)\n",
    "    X_val = dv.transform(val_dict)\n",
    "    y_val_pred_rr = rr.predict(X_val)\n",
    "    print(f\"alpha:{a}\")\n",
    "    print(f\"MSE val data: {round((mean_squared_error(y_val,y_val_pred_rr)),3)}\")\n",
    "    print(f\"R^2 val data: {round((r2_score(y_val,y_val_pred_rr)),3)}\")\n"
   ]
  },
  {
   "cell_type": "code",
   "execution_count": 34,
   "id": "16292b70",
   "metadata": {},
   "outputs": [
    {
     "name": "stdout",
     "output_type": "stream",
     "text": [
      "solver:sparse_cg\n",
      "MSE val data: 0.219\n",
      "R^2 val data: 0.76\n",
      "solver:cholesky\n",
      "MSE val data: 0.219\n",
      "R^2 val data: 0.76\n",
      "solver:svd\n",
      "MSE val data: 0.219\n",
      "R^2 val data: 0.76\n",
      "solver:lsqr\n",
      "MSE val data: 0.219\n",
      "R^2 val data: 0.76\n",
      "solver:sag\n",
      "MSE val data: 0.22\n",
      "R^2 val data: 0.76\n",
      "solver:saga\n",
      "MSE val data: 0.22\n",
      "R^2 val data: 0.76\n"
     ]
    }
   ],
   "source": [
    "solver = ['sparse_cg', 'cholesky', 'svd', 'lsqr', 'sag','saga']\n",
    "for s in solver:\n",
    "    \n",
    "    rr = Ridge(alpha = 0.1,solver = s)\n",
    "    rr.fit(X_train, y_train)\n",
    "    y_train_pred_rr = rr.predict(X_train)\n",
    "    X_val = dv.transform(val_dict)\n",
    "    y_val_pred_rr = rr.predict(X_val)\n",
    "    print(f\"solver:{s}\")\n",
    "    print(f\"MSE val data: {round((mean_squared_error(y_val,y_val_pred_rr)),3)}\")\n",
    "    print(f\"R^2 val data: {round((r2_score(y_val,y_val_pred_rr)),3)}\")\n",
    "\n",
    "    "
   ]
  },
  {
   "cell_type": "code",
   "execution_count": 35,
   "id": "71176a99",
   "metadata": {},
   "outputs": [
    {
     "name": "stdout",
     "output_type": "stream",
     "text": [
      "MSE val data: 0.219\n",
      "R^2 val data: 0.76\n"
     ]
    }
   ],
   "source": [
    "rr = Ridge(alpha = 0.1, fit_intercept = False)\n",
    "rr.fit(X_train, y_train)\n",
    "y_train_pred_rr = rr.predict(X_train)\n",
    "X_val = dv.transform(val_dict)\n",
    "y_val_pred_rr = rr.predict(X_val)\n",
    "print(f\"MSE val data: {round((mean_squared_error(y_val,y_val_pred_rr)),3)}\")\n",
    "print(f\"R^2 val data: {round((r2_score(y_val,y_val_pred_rr)),3)}\")"
   ]
  },
  {
   "cell_type": "markdown",
   "id": "e7b3627c",
   "metadata": {},
   "source": [
    "Result: Default parameters, except alpha = 0.1"
   ]
  },
  {
   "cell_type": "markdown",
   "id": "868b6c15",
   "metadata": {},
   "source": [
    "## Decision Trees"
   ]
  },
  {
   "cell_type": "code",
   "execution_count": 36,
   "id": "8144b827",
   "metadata": {},
   "outputs": [
    {
     "name": "stdout",
     "output_type": "stream",
     "text": [
      "MSE train data: 0.0\n",
      "R^2 train data: 1.0\n",
      "MSE val data: 0.271\n",
      "R^2 val data: 0.704\n"
     ]
    }
   ],
   "source": [
    "dt = DecisionTreeRegressor()\n",
    "dt.fit(X_train, y_train)\n",
    "y_train_pred_dt = dt.predict(X_train)\n",
    "X_val = dv.transform(val_dict)\n",
    "y_val_pred_dt = dt.predict(X_val)\n",
    "print(f\"MSE train data: {round((mean_squared_error(y_train,y_train_pred_dt)),3)}\")\n",
    "print(f\"R^2 train data: {round((r2_score(y_train,y_train_pred_dt)),3)}\")\n",
    "print(f\"MSE val data: {round((mean_squared_error(y_val,y_val_pred_dt)),3)}\")\n",
    "print(f\"R^2 val data: {round((r2_score(y_val,y_val_pred_dt)),3)}\")"
   ]
  },
  {
   "cell_type": "markdown",
   "id": "554406c9",
   "metadata": {},
   "source": [
    "## Parameter Tuning DT"
   ]
  },
  {
   "cell_type": "code",
   "execution_count": 37,
   "id": "cb23b7a6",
   "metadata": {},
   "outputs": [
    {
     "name": "stdout",
     "output_type": "stream",
     "text": [
      "depth : 1\n",
      "MSE val data: 0.521\n",
      "R^2 val data: 0.43\n",
      "depth : 2\n",
      "MSE val data: 0.268\n",
      "R^2 val data: 0.707\n",
      "depth : 3\n",
      "MSE val data: 0.214\n",
      "R^2 val data: 0.765\n",
      "depth : 4\n",
      "MSE val data: 0.2\n",
      "R^2 val data: 0.781\n",
      "depth : 5\n",
      "MSE val data: 0.181\n",
      "R^2 val data: 0.802\n",
      "depth : 6\n",
      "MSE val data: 0.224\n",
      "R^2 val data: 0.756\n",
      "depth : 10\n",
      "MSE val data: 0.262\n",
      "R^2 val data: 0.713\n",
      "depth : 15\n",
      "MSE val data: 0.278\n",
      "R^2 val data: 0.697\n",
      "depth : 20\n",
      "MSE val data: 0.276\n",
      "R^2 val data: 0.698\n",
      "depth : None\n",
      "MSE val data: 0.264\n",
      "R^2 val data: 0.712\n"
     ]
    }
   ],
   "source": [
    "for depth in [1, 2, 3, 4, 5, 6, 10, 15, 20, None]:\n",
    "    dt = DecisionTreeRegressor(max_depth=depth)\n",
    "    dt.fit(X_train, y_train)\n",
    "    y_train_pred_dt = rr.predict(X_train)\n",
    "    X_val = dv.transform(val_dict)\n",
    "    y_val_pred_dt = dt.predict(X_val)\n",
    "    print(f\"depth : {depth}\")\n",
    "    print(f\"MSE val data: {round((mean_squared_error(y_val,y_val_pred_dt)),3)}\")\n",
    "    print(f\"R^2 val data: {round((r2_score(y_val,y_val_pred_dt)),3)}\")"
   ]
  },
  {
   "cell_type": "code",
   "execution_count": 38,
   "id": "ad33f989",
   "metadata": {},
   "outputs": [
    {
     "name": "stdout",
     "output_type": "stream",
     "text": [
      "min_samples_leaf : 1\n",
      "MSE val data: 0.181\n",
      "R^2 val data: 0.802\n",
      "min_samples_leaf : 5\n",
      "MSE val data: 0.182\n",
      "R^2 val data: 0.801\n",
      "min_samples_leaf : 10\n",
      "MSE val data: 0.18\n",
      "R^2 val data: 0.803\n",
      "min_samples_leaf : 15\n",
      "MSE val data: 0.18\n",
      "R^2 val data: 0.803\n",
      "min_samples_leaf : 20\n",
      "MSE val data: 0.198\n",
      "R^2 val data: 0.783\n",
      "min_samples_leaf : 50\n",
      "MSE val data: 0.198\n",
      "R^2 val data: 0.784\n",
      "min_samples_leaf : 100\n",
      "MSE val data: 0.233\n",
      "R^2 val data: 0.745\n",
      "min_samples_leaf : 200\n",
      "MSE val data: 0.706\n",
      "R^2 val data: 0.228\n"
     ]
    }
   ],
   "source": [
    "for m in [1, 5, 10, 15, 20, 50, 100, 200]:\n",
    "    dt = DecisionTreeRegressor(max_depth=5, min_samples_leaf=m)\n",
    "    dt.fit(X_train, y_train)\n",
    "    y_train_pred_dt = rr.predict(X_train)\n",
    "    X_val = dv.transform(val_dict)\n",
    "    y_val_pred_dt = dt.predict(X_val)\n",
    "    print(f\"min_samples_leaf : {m}\")\n",
    "    print(f\"MSE val data: {round((mean_squared_error(y_val,y_val_pred_dt)),3)}\")\n",
    "    print(f\"R^2 val data: {round((r2_score(y_val,y_val_pred_dt)),3)}\")"
   ]
  },
  {
   "cell_type": "markdown",
   "id": "f1fd49bc",
   "metadata": {},
   "source": [
    "Result : depth = 5 and min_sample_leaf = 10"
   ]
  },
  {
   "cell_type": "markdown",
   "id": "d00f9b9a",
   "metadata": {},
   "source": [
    "## Random Forest"
   ]
  },
  {
   "cell_type": "code",
   "execution_count": 39,
   "id": "3f99717a",
   "metadata": {},
   "outputs": [
    {
     "name": "stdout",
     "output_type": "stream",
     "text": [
      "MSE train data: 0.02\n",
      "R^2 train data: 0.975\n",
      "MSE val data: 0.197\n",
      "R^2 val data: 0.785\n"
     ]
    }
   ],
   "source": [
    "rf = RandomForestRegressor(random_state=1)\n",
    "rf.fit(X_train, y_train)\n",
    "y_train_pred_rf = rf.predict(X_train)\n",
    "X_val = dv.transform(val_dict)\n",
    "y_val_pred_rf = rf.predict(X_val)\n",
    "print(f\"MSE train data: {round((mean_squared_error(y_train,y_train_pred_rf)),3)}\")\n",
    "print(f\"R^2 train data: {round((r2_score(y_train,y_train_pred_rf)),3)}\")\n",
    "print(f\"MSE val data: {round((mean_squared_error(y_val,y_val_pred_rf)),3)}\")\n",
    "print(f\"R^2 val data: {round((r2_score(y_val,y_val_pred_rf)),3)}\")"
   ]
  },
  {
   "cell_type": "markdown",
   "id": "7f37c8cf",
   "metadata": {},
   "source": [
    "## Parameter Turning RF"
   ]
  },
  {
   "cell_type": "code",
   "execution_count": 40,
   "id": "53d7d466",
   "metadata": {},
   "outputs": [
    {
     "name": "stdout",
     "output_type": "stream",
     "text": [
      "number of estimators: 10\n",
      "MSE val data: 0.197\n",
      "R^2 val data: 0.784\n",
      "number of estimators: 20\n",
      "MSE val data: 0.205\n",
      "R^2 val data: 0.776\n",
      "number of estimators: 30\n",
      "MSE val data: 0.2\n",
      "R^2 val data: 0.782\n",
      "number of estimators: 40\n",
      "MSE val data: 0.198\n",
      "R^2 val data: 0.784\n",
      "number of estimators: 50\n",
      "MSE val data: 0.198\n",
      "R^2 val data: 0.784\n",
      "number of estimators: 60\n",
      "MSE val data: 0.195\n",
      "R^2 val data: 0.786\n",
      "number of estimators: 70\n",
      "MSE val data: 0.195\n",
      "R^2 val data: 0.787\n",
      "number of estimators: 80\n",
      "MSE val data: 0.195\n",
      "R^2 val data: 0.787\n",
      "number of estimators: 90\n",
      "MSE val data: 0.196\n",
      "R^2 val data: 0.785\n",
      "number of estimators: 100\n",
      "MSE val data: 0.197\n",
      "R^2 val data: 0.785\n",
      "number of estimators: 110\n",
      "MSE val data: 0.193\n",
      "R^2 val data: 0.788\n",
      "number of estimators: 120\n",
      "MSE val data: 0.192\n",
      "R^2 val data: 0.79\n",
      "number of estimators: 130\n",
      "MSE val data: 0.193\n",
      "R^2 val data: 0.789\n",
      "number of estimators: 140\n",
      "MSE val data: 0.192\n",
      "R^2 val data: 0.79\n",
      "number of estimators: 150\n",
      "MSE val data: 0.192\n",
      "R^2 val data: 0.79\n",
      "number of estimators: 160\n",
      "MSE val data: 0.192\n",
      "R^2 val data: 0.79\n",
      "number of estimators: 170\n",
      "MSE val data: 0.192\n",
      "R^2 val data: 0.79\n",
      "number of estimators: 180\n",
      "MSE val data: 0.192\n",
      "R^2 val data: 0.79\n",
      "number of estimators: 190\n",
      "MSE val data: 0.192\n",
      "R^2 val data: 0.79\n",
      "number of estimators: 200\n",
      "MSE val data: 0.191\n",
      "R^2 val data: 0.791\n"
     ]
    }
   ],
   "source": [
    "r2_train = []\n",
    "r2_val = []\n",
    "\n",
    "for i in range(10, 201, 10):\n",
    "    rf = RandomForestRegressor(n_estimators=i,random_state=1)\n",
    "    rf.fit(X_train, y_train)\n",
    "    y_train_pred_rf = rf.predict(X_train)\n",
    "    X_val = dv.transform(val_dict)\n",
    "    y_val_pred_rf = rf.predict(X_val)\n",
    "    print(f\"number of estimators: {i}\")\n",
    "    print(f\"MSE val data: {round((mean_squared_error(y_val,y_val_pred_rf)),3)}\")\n",
    "    print(f\"R^2 val data: {round((r2_score(y_val,y_val_pred_rf)),3)}\")\n",
    "    r2_val.append(round((r2_score(y_val,y_val_pred_rf)),3))"
   ]
  },
  {
   "cell_type": "code",
   "execution_count": 41,
   "id": "49921199",
   "metadata": {},
   "outputs": [
    {
     "data": {
      "text/plain": [
       "Text(0, 0.5, 'R^2 score')"
      ]
     },
     "execution_count": 41,
     "metadata": {},
     "output_type": "execute_result"
    },
    {
     "data": {
      "image/png": "[encoded data removed]",
      "text/plain": [
       "<Figure size 432x288 with 1 Axes>"
      ]
     },
     "metadata": {
      "needs_background": "light"
     },
     "output_type": "display_data"
    }
   ],
   "source": [
    "plt.figure(figsize=(6, 4))\n",
    "\n",
    "plt.plot(range(10, 201, 10), r2_val,label='val', color='blue')\n",
    "plt.xticks(range(0, 201, 50))\n",
    "\n",
    "plt.title('Number of trees vs AUC')\n",
    "plt.xlabel('Number of trees')\n",
    "plt.ylabel('R^2 score')\n"
   ]
  },
  {
   "cell_type": "code",
   "execution_count": 42,
   "id": "4fa0f3dd",
   "metadata": {},
   "outputs": [
    {
     "name": "stdout",
     "output_type": "stream",
     "text": [
      "depth: 5\n",
      "10 -> 0.814\n",
      "20 -> 0.812\n",
      "30 -> 0.810\n",
      "40 -> 0.808\n",
      "50 -> 0.807\n",
      "60 -> 0.807\n",
      "70 -> 0.808\n",
      "80 -> 0.808\n",
      "90 -> 0.807\n",
      "100 -> 0.807\n",
      "110 -> 0.808\n",
      "120 -> 0.808\n",
      "130 -> 0.808\n",
      "140 -> 0.808\n",
      "150 -> 0.808\n",
      "160 -> 0.808\n",
      "170 -> 0.808\n",
      "180 -> 0.808\n",
      "190 -> 0.808\n",
      "200 -> 0.808\n",
      "\n",
      "depth: 10\n",
      "10 -> 0.789\n",
      "20 -> 0.777\n",
      "30 -> 0.786\n",
      "40 -> 0.788\n",
      "50 -> 0.786\n",
      "60 -> 0.788\n",
      "70 -> 0.788\n",
      "80 -> 0.788\n",
      "90 -> 0.787\n",
      "100 -> 0.786\n",
      "110 -> 0.790\n",
      "120 -> 0.791\n",
      "130 -> 0.790\n",
      "140 -> 0.790\n",
      "150 -> 0.791\n",
      "160 -> 0.791\n",
      "170 -> 0.791\n",
      "180 -> 0.791\n",
      "190 -> 0.792\n",
      "200 -> 0.792\n",
      "\n",
      "depth: 20\n",
      "10 -> 0.784\n",
      "20 -> 0.776\n",
      "30 -> 0.782\n",
      "40 -> 0.784\n",
      "50 -> 0.784\n",
      "60 -> 0.786\n",
      "70 -> 0.787\n",
      "80 -> 0.787\n",
      "90 -> 0.785\n",
      "100 -> 0.785\n",
      "110 -> 0.788\n",
      "120 -> 0.790\n",
      "130 -> 0.789\n",
      "140 -> 0.790\n",
      "150 -> 0.790\n",
      "160 -> 0.790\n",
      "170 -> 0.790\n",
      "180 -> 0.790\n",
      "190 -> 0.790\n",
      "200 -> 0.791\n",
      "\n"
     ]
    }
   ],
   "source": [
    "all_r2 = {}\n",
    "\n",
    "for depth in [5, 10, 20]:\n",
    "    print('depth: %s' % depth)\n",
    "    r2s = []\n",
    "\n",
    "    for i in range(10, 201, 10):\n",
    "        rf = RandomForestRegressor(n_estimators=i, max_depth=depth, random_state=1)\n",
    "        rf.fit(X_train, y_train)\n",
    "        y_val_pred_rf = rf.predict(X_val)\n",
    "        r2 = round((r2_score(y_val,y_val_pred_rf)),3)\n",
    "        print('%s -> %.3f' % (i, r2))\n",
    "        r2s.append(r2)\n",
    "    \n",
    "    all_r2[depth] = r2s\n",
    "    print()\n"
   ]
  },
  {
   "cell_type": "markdown",
   "id": "38a25f2e",
   "metadata": {},
   "source": [
    "depth = 5, estimators = 10"
   ]
  },
  {
   "cell_type": "code",
   "execution_count": 43,
   "id": "a8245610",
   "metadata": {},
   "outputs": [
    {
     "data": {
      "image/png": "[encoded data removed]",
      "text/plain": [
       "<Figure size 432x288 with 1 Axes>"
      ]
     },
     "metadata": {
      "needs_background": "light"
     },
     "output_type": "display_data"
    }
   ],
   "source": [
    "plt.figure(figsize=(6, 4))\n",
    "\n",
    "num_trees = list(range(10, 201, 10))\n",
    "\n",
    "plt.plot(num_trees, all_r2[5], label='depth=5', color='red', linestyle='dotted')\n",
    "plt.plot(num_trees, all_r2[10], label='depth=10', color='black', linestyle='dashed')\n",
    "plt.plot(num_trees, all_r2[20], label='depth=20', color='blue', linestyle='solid')\n",
    "    \n",
    "plt.xticks(range(0, 201, 50))\n",
    "plt.legend()\n",
    "\n",
    "plt.title('Number of trees vs r2')\n",
    "plt.xlabel('Number of trees')\n",
    "plt.ylabel('r2')\n",
    "\n",
    "# plt.savefig('ch06-figures/06_random_forest_n_estimators_depth.svg')\n",
    "\n",
    "plt.show()"
   ]
  },
  {
   "cell_type": "code",
   "execution_count": 44,
   "id": "a052b464",
   "metadata": {},
   "outputs": [
    {
     "name": "stdout",
     "output_type": "stream",
     "text": [
      "min_samples_leaf: 1\n",
      "10 -> 0.814\n",
      "30 -> 0.810\n",
      "50 -> 0.807\n",
      "70 -> 0.808\n",
      "90 -> 0.807\n",
      "110 -> 0.808\n",
      "130 -> 0.808\n",
      "150 -> 0.808\n",
      "170 -> 0.808\n",
      "190 -> 0.808\n",
      "\n",
      "min_samples_leaf: 3\n",
      "10 -> 0.810\n",
      "30 -> 0.809\n",
      "50 -> 0.808\n",
      "70 -> 0.809\n",
      "90 -> 0.808\n",
      "110 -> 0.808\n",
      "130 -> 0.809\n",
      "150 -> 0.808\n",
      "170 -> 0.808\n",
      "190 -> 0.808\n",
      "\n",
      "min_samples_leaf: 5\n",
      "10 -> 0.809\n",
      "30 -> 0.809\n",
      "50 -> 0.806\n",
      "70 -> 0.808\n",
      "90 -> 0.808\n",
      "110 -> 0.808\n",
      "130 -> 0.808\n",
      "150 -> 0.808\n",
      "170 -> 0.808\n",
      "190 -> 0.808\n",
      "\n",
      "min_samples_leaf: 10\n",
      "10 -> 0.809\n",
      "30 -> 0.807\n",
      "50 -> 0.807\n",
      "70 -> 0.808\n",
      "90 -> 0.808\n",
      "110 -> 0.809\n",
      "130 -> 0.809\n",
      "150 -> 0.808\n",
      "170 -> 0.808\n",
      "190 -> 0.808\n",
      "\n"
     ]
    }
   ],
   "source": [
    "#Tuning the min_samples_leaf parameter\n",
    "all_r2 = {}\n",
    "\n",
    "for m in [1,3, 5, 10]:\n",
    "    print('min_samples_leaf: %s' % m)\n",
    "    r2s = []\n",
    "\n",
    "    for i in range(10, 201, 20):\n",
    "        rf = RandomForestRegressor(n_estimators=i, max_depth=5, min_samples_leaf=m, random_state=1)\n",
    "        rf.fit(X_train, y_train)\n",
    "        y_val_pred_rf = rf.predict(X_val)\n",
    "        r2 = round((r2_score(y_val,y_val_pred_rf)),3)\n",
    "        print('%s -> %.3f' % (i, r2))\n",
    "        r2s.append(r2)\n",
    "    \n",
    "    all_r2[m] = r2s\n",
    "    print()"
   ]
  },
  {
   "cell_type": "code",
   "execution_count": 45,
   "id": "447654b8",
   "metadata": {},
   "outputs": [
    {
     "data": {
      "image/png": "[encoded data removed]",
      "text/plain": [
       "<Figure size 432x288 with 1 Axes>"
      ]
     },
     "metadata": {
      "needs_background": "light"
     },
     "output_type": "display_data"
    }
   ],
   "source": [
    "plt.figure(figsize=(6, 4))\n",
    "\n",
    "num_trees = list(range(10, 201, 20))\n",
    "\n",
    "plt.plot(num_trees, all_r2[1], label='min_samples_leaf=1', color='red', linestyle='dashdot')\n",
    "plt.plot(num_trees, all_r2[3], label='min_samples_leaf=3', color='black', linestyle='dotted')\n",
    "plt.plot(num_trees, all_r2[5], label='min_samples_leaf=5', color='blue', linestyle='dashed')\n",
    "plt.plot(num_trees, all_r2[10], label='min_samples_leaf=10', color='green', linestyle='solid')\n",
    "    \n",
    "plt.xticks(range(0, 201, 50))\n",
    "plt.legend()\n",
    "\n",
    "plt.title('Number of trees vs r2')\n",
    "plt.xlabel('Number of trees')\n",
    "plt.ylabel('r2')\n",
    "\n",
    "# plt.savefig('ch06-figures/06_random_forest_n_estimators_sample_leaf.svg')\n",
    "\n",
    "plt.show()"
   ]
  },
  {
   "cell_type": "code",
   "execution_count": 46,
   "id": "1ba7c019",
   "metadata": {},
   "outputs": [],
   "source": [
    "#min_samples_leaf = 1 = default"
   ]
  },
  {
   "cell_type": "markdown",
   "id": "dfe3a193",
   "metadata": {},
   "source": [
    "Result: n_estimators=10, max_depth=5, min_samples_leaf=1"
   ]
  },
  {
   "cell_type": "markdown",
   "id": "0ca5b270",
   "metadata": {},
   "source": [
    "## ExtraTrees Regressor"
   ]
  },
  {
   "cell_type": "code",
   "execution_count": 47,
   "id": "07c1d9de",
   "metadata": {},
   "outputs": [
    {
     "name": "stdout",
     "output_type": "stream",
     "text": [
      "MSE train data: 0.0\n",
      "R^2 train data: 1.0\n",
      "MSE val data: 0.226\n",
      "R^2 val data: 0.753\n"
     ]
    }
   ],
   "source": [
    "et = ExtraTreesRegressor()\n",
    "et.fit(X_train, y_train)\n",
    "y_train_pred_et = et.predict(X_train)\n",
    "X_val = dv.transform(val_dict)\n",
    "y_val_pred_et = et.predict(X_val)\n",
    "print(f\"MSE train data: {round((mean_squared_error(y_train,y_train_pred_et)),3)}\")\n",
    "print(f\"R^2 train data: {round((r2_score(y_train,y_train_pred_et)),3)}\")\n",
    "print(f\"MSE val data: {round((mean_squared_error(y_val,y_val_pred_et)),3)}\")\n",
    "print(f\"R^2 val data: {round((r2_score(y_val,y_val_pred_et)),3)}\")"
   ]
  },
  {
   "cell_type": "markdown",
   "id": "dbb2b5fc",
   "metadata": {},
   "source": [
    "## Parameter Tuning ET"
   ]
  },
  {
   "cell_type": "code",
   "execution_count": 48,
   "id": "518af5c3",
   "metadata": {},
   "outputs": [
    {
     "name": "stdout",
     "output_type": "stream",
     "text": [
      "number of estimators: 10\n",
      "MSE val data: 0.23\n",
      "R^2 val data: 0.749\n",
      "number of estimators: 20\n",
      "MSE val data: 0.228\n",
      "R^2 val data: 0.751\n",
      "number of estimators: 30\n",
      "MSE val data: 0.229\n",
      "R^2 val data: 0.75\n",
      "number of estimators: 40\n",
      "MSE val data: 0.227\n",
      "R^2 val data: 0.751\n",
      "number of estimators: 50\n",
      "MSE val data: 0.227\n",
      "R^2 val data: 0.752\n",
      "number of estimators: 60\n",
      "MSE val data: 0.227\n",
      "R^2 val data: 0.752\n",
      "number of estimators: 70\n",
      "MSE val data: 0.226\n",
      "R^2 val data: 0.753\n",
      "number of estimators: 80\n",
      "MSE val data: 0.225\n",
      "R^2 val data: 0.754\n",
      "number of estimators: 90\n",
      "MSE val data: 0.224\n",
      "R^2 val data: 0.755\n",
      "number of estimators: 100\n",
      "MSE val data: 0.224\n",
      "R^2 val data: 0.755\n",
      "number of estimators: 110\n",
      "MSE val data: 0.224\n",
      "R^2 val data: 0.755\n",
      "number of estimators: 120\n",
      "MSE val data: 0.224\n",
      "R^2 val data: 0.755\n",
      "number of estimators: 130\n",
      "MSE val data: 0.224\n",
      "R^2 val data: 0.755\n",
      "number of estimators: 140\n",
      "MSE val data: 0.223\n",
      "R^2 val data: 0.756\n",
      "number of estimators: 150\n",
      "MSE val data: 0.224\n",
      "R^2 val data: 0.755\n",
      "number of estimators: 160\n",
      "MSE val data: 0.224\n",
      "R^2 val data: 0.755\n",
      "number of estimators: 170\n",
      "MSE val data: 0.224\n",
      "R^2 val data: 0.755\n",
      "number of estimators: 180\n",
      "MSE val data: 0.224\n",
      "R^2 val data: 0.756\n",
      "number of estimators: 190\n",
      "MSE val data: 0.224\n",
      "R^2 val data: 0.755\n",
      "number of estimators: 200\n",
      "MSE val data: 0.224\n",
      "R^2 val data: 0.755\n"
     ]
    }
   ],
   "source": [
    "r2_train = []\n",
    "r2_val = []\n",
    "\n",
    "for i in range(10, 201, 10):\n",
    "    et = ExtraTreesRegressor(n_estimators=i,random_state=1)\n",
    "    et.fit(X_train, y_train)\n",
    "    y_train_pred_et = et.predict(X_train)\n",
    "    X_val = dv.transform(val_dict)\n",
    "    y_val_pred_et = et.predict(X_val)\n",
    "    print(f\"number of estimators: {i}\")\n",
    "    print(f\"MSE val data: {round((mean_squared_error(y_val,y_val_pred_et)),3)}\")\n",
    "    print(f\"R^2 val data: {round((r2_score(y_val,y_val_pred_et)),3)}\")\n",
    "    r2_val.append(round((r2_score(y_val,y_val_pred_et)),3))"
   ]
  },
  {
   "cell_type": "code",
   "execution_count": 49,
   "id": "96629a7b",
   "metadata": {},
   "outputs": [
    {
     "data": {
      "text/plain": [
       "Text(0, 0.5, 'R^2 score')"
      ]
     },
     "execution_count": 49,
     "metadata": {},
     "output_type": "execute_result"
    },
    {
     "data": {
      "image/png": "[encoded data removed]",
      "text/plain": [
       "<Figure size 432x288 with 1 Axes>"
      ]
     },
     "metadata": {
      "needs_background": "light"
     },
     "output_type": "display_data"
    }
   ],
   "source": [
    "plt.figure(figsize=(6, 4))\n",
    "\n",
    "plt.plot(range(10, 201, 10), r2_val,label='val', color='blue')\n",
    "plt.xticks(range(0, 201, 50))\n",
    "\n",
    "plt.title('Number of trees vs AUC')\n",
    "plt.xlabel('Number of trees')\n",
    "plt.ylabel('R^2 score')\n"
   ]
  },
  {
   "cell_type": "code",
   "execution_count": 50,
   "id": "69c4a244",
   "metadata": {},
   "outputs": [
    {
     "name": "stdout",
     "output_type": "stream",
     "text": [
      "depth: 5\n",
      "10 -> 0.813\n",
      "20 -> 0.813\n",
      "30 -> 0.814\n",
      "40 -> 0.815\n",
      "50 -> 0.815\n",
      "60 -> 0.816\n",
      "70 -> 0.816\n",
      "80 -> 0.816\n",
      "90 -> 0.817\n",
      "100 -> 0.816\n",
      "110 -> 0.816\n",
      "120 -> 0.816\n",
      "130 -> 0.816\n",
      "140 -> 0.816\n",
      "150 -> 0.816\n",
      "160 -> 0.816\n",
      "170 -> 0.816\n",
      "180 -> 0.816\n",
      "190 -> 0.816\n",
      "200 -> 0.816\n",
      "\n",
      "depth: 10\n",
      "10 -> 0.779\n",
      "20 -> 0.795\n",
      "30 -> 0.798\n",
      "40 -> 0.799\n",
      "50 -> 0.799\n",
      "60 -> 0.800\n",
      "70 -> 0.799\n",
      "80 -> 0.800\n",
      "90 -> 0.800\n",
      "100 -> 0.800\n",
      "110 -> 0.799\n",
      "120 -> 0.799\n",
      "130 -> 0.799\n",
      "140 -> 0.799\n",
      "150 -> 0.798\n",
      "160 -> 0.799\n",
      "170 -> 0.798\n",
      "180 -> 0.798\n",
      "190 -> 0.797\n",
      "200 -> 0.798\n",
      "\n",
      "depth: 20\n",
      "10 -> 0.748\n",
      "20 -> 0.752\n",
      "30 -> 0.751\n",
      "40 -> 0.752\n",
      "50 -> 0.752\n",
      "60 -> 0.752\n",
      "70 -> 0.752\n",
      "80 -> 0.753\n",
      "90 -> 0.754\n",
      "100 -> 0.755\n",
      "110 -> 0.755\n",
      "120 -> 0.755\n",
      "130 -> 0.754\n",
      "140 -> 0.755\n",
      "150 -> 0.755\n",
      "160 -> 0.755\n",
      "170 -> 0.754\n",
      "180 -> 0.755\n",
      "190 -> 0.754\n",
      "200 -> 0.754\n",
      "\n"
     ]
    }
   ],
   "source": [
    "all_r2 = {}\n",
    "\n",
    "for depth in [5, 10, 20]:\n",
    "    print('depth: %s' % depth)\n",
    "    r2s = []\n",
    "\n",
    "    for i in range(10, 201, 10):\n",
    "        et = ExtraTreesRegressor(n_estimators=i, max_depth=depth,random_state=1)\n",
    "        et.fit(X_train, y_train)\n",
    "        y_val_pred_et = et.predict(X_val)\n",
    "        r2 = round((r2_score(y_val,y_val_pred_et)),3)\n",
    "        print('%s -> %.3f' % (i, r2))\n",
    "        r2s.append(r2)\n",
    "    \n",
    "    all_r2[depth] = r2s\n",
    "    print()\n"
   ]
  },
  {
   "cell_type": "code",
   "execution_count": 51,
   "id": "d0e1118e",
   "metadata": {},
   "outputs": [
    {
     "data": {
      "image/png": "[encoded data removed]",
      "text/plain": [
       "<Figure size 432x288 with 1 Axes>"
      ]
     },
     "metadata": {
      "needs_background": "light"
     },
     "output_type": "display_data"
    }
   ],
   "source": [
    "plt.figure(figsize=(6, 4))\n",
    "\n",
    "num_trees = list(range(10, 201, 10))\n",
    "\n",
    "plt.plot(num_trees, all_r2[5], label='depth=5', color='red', linestyle='dotted')\n",
    "plt.plot(num_trees, all_r2[10], label='depth=10', color='black', linestyle='dashed')\n",
    "plt.plot(num_trees, all_r2[20], label='depth=20', color='blue', linestyle='solid')\n",
    "    \n",
    "plt.xticks(range(0, 201, 50))\n",
    "plt.legend()\n",
    "\n",
    "plt.title('Number of trees vs r2')\n",
    "plt.xlabel('Number of trees')\n",
    "plt.ylabel('r2')\n",
    "\n",
    "\n",
    "plt.show()"
   ]
  },
  {
   "cell_type": "code",
   "execution_count": 52,
   "id": "625a0982",
   "metadata": {},
   "outputs": [
    {
     "name": "stdout",
     "output_type": "stream",
     "text": [
      "min_samples_leaf: 1\n",
      "10 -> 0.813\n",
      "30 -> 0.814\n",
      "50 -> 0.815\n",
      "70 -> 0.816\n",
      "90 -> 0.817\n",
      "110 -> 0.816\n",
      "130 -> 0.816\n",
      "150 -> 0.816\n",
      "170 -> 0.816\n",
      "190 -> 0.816\n",
      "\n",
      "min_samples_leaf: 3\n",
      "10 -> 0.807\n",
      "30 -> 0.810\n",
      "50 -> 0.814\n",
      "70 -> 0.815\n",
      "90 -> 0.815\n",
      "110 -> 0.815\n",
      "130 -> 0.815\n",
      "150 -> 0.815\n",
      "170 -> 0.815\n",
      "190 -> 0.815\n",
      "\n",
      "min_samples_leaf: 5\n",
      "10 -> 0.809\n",
      "30 -> 0.814\n",
      "50 -> 0.816\n",
      "70 -> 0.816\n",
      "90 -> 0.816\n",
      "110 -> 0.816\n",
      "130 -> 0.815\n",
      "150 -> 0.816\n",
      "170 -> 0.816\n",
      "190 -> 0.816\n",
      "\n",
      "min_samples_leaf: 10\n",
      "10 -> 0.812\n",
      "30 -> 0.815\n",
      "50 -> 0.813\n",
      "70 -> 0.812\n",
      "90 -> 0.813\n",
      "110 -> 0.814\n",
      "130 -> 0.814\n",
      "150 -> 0.814\n",
      "170 -> 0.814\n",
      "190 -> 0.814\n",
      "\n"
     ]
    }
   ],
   "source": [
    "#Tuning the min_samples_leaf parameter\n",
    "all_r2 = {}\n",
    "\n",
    "for m in [1,3, 5, 10]:\n",
    "    print('min_samples_leaf: %s' % m)\n",
    "    r2s = []\n",
    "\n",
    "    for i in range(10, 201, 20):\n",
    "        et = ExtraTreesRegressor(n_estimators=i, max_depth=5, min_samples_leaf=m, random_state=1)\n",
    "        et.fit(X_train, y_train)\n",
    "        y_val_pred_et = et.predict(X_val)\n",
    "        r2 = round((r2_score(y_val,y_val_pred_et)),3)\n",
    "        print('%s -> %.3f' % (i, r2))\n",
    "        r2s.append(r2)\n",
    "    \n",
    "    all_r2[m] = r2s\n",
    "    print()"
   ]
  },
  {
   "cell_type": "code",
   "execution_count": 53,
   "id": "70ddb84c",
   "metadata": {},
   "outputs": [
    {
     "data": {
      "image/png": "[encoded data removed]",
      "text/plain": [
       "<Figure size 432x288 with 1 Axes>"
      ]
     },
     "metadata": {
      "needs_background": "light"
     },
     "output_type": "display_data"
    }
   ],
   "source": [
    "plt.figure(figsize=(6, 4))\n",
    "\n",
    "num_trees = list(range(10, 201, 20))\n",
    "\n",
    "plt.plot(num_trees, all_r2[1], label='min_samples_leaf=1', color='red', linestyle='dashdot')\n",
    "plt.plot(num_trees, all_r2[3], label='min_samples_leaf=3', color='black', linestyle='dotted')\n",
    "plt.plot(num_trees, all_r2[5], label='min_samples_leaf=5', color='blue', linestyle='dashed')\n",
    "plt.plot(num_trees, all_r2[10], label='min_samples_leaf=10', color='green', linestyle='solid')\n",
    "    \n",
    "plt.xticks(range(0, 201, 50))\n",
    "plt.legend()\n",
    "\n",
    "plt.title('Number of trees vs r2')\n",
    "plt.xlabel('Number of trees')\n",
    "plt.ylabel('r2')\n",
    "\n",
    "# plt.savefig('ch06-figures/06_random_forest_n_estimators_sample_leaf.svg')\n",
    "\n",
    "plt.show()"
   ]
  },
  {
   "cell_type": "markdown",
   "id": "66ff24ce",
   "metadata": {},
   "source": [
    "Result: n_estimators=90, max_depth=5, min_samples_leaf=1"
   ]
  },
  {
   "cell_type": "markdown",
   "id": "c1d13053",
   "metadata": {},
   "source": [
    "## Final Test"
   ]
  },
  {
   "cell_type": "code",
   "execution_count": 54,
   "id": "13cc4682",
   "metadata": {},
   "outputs": [],
   "source": [
    "del df_full_train['charges']"
   ]
  },
  {
   "cell_type": "code",
   "execution_count": 55,
   "id": "737767a3",
   "metadata": {},
   "outputs": [],
   "source": [
    "full_train_dict = df_full_train[categorical_columns +numerical_columns].to_dict(orient='records')\n",
    "\n",
    "dv = DictVectorizer(sparse=False)\n",
    "dv.fit(full_train_dict)\n",
    "X_full_train = dv.transform(full_train_dict)\n",
    "\n",
    "test_dict = df_test[categorical_columns +numerical_columns].to_dict(orient='records')\n",
    "X_test = dv.transform(test_dict)"
   ]
  },
  {
   "cell_type": "code",
   "execution_count": 56,
   "id": "3d3b8840",
   "metadata": {},
   "outputs": [
    {
     "name": "stdout",
     "output_type": "stream",
     "text": [
      "MSE full_train data: 0.198\n",
      "R^2 full_train data: 0.764\n",
      "MSE test data: 0.189\n",
      "R^2 test data: 0.772\n"
     ]
    }
   ],
   "source": [
    "lr = LinearRegression()\n",
    "lr.fit(X_full_train, y_full_train)\n",
    "y_full_train_pred_lr = lr.predict(X_full_train)\n",
    "y_test_pred_lr = lr.predict(X_test)\n",
    "\n",
    "print(f\"MSE full_train data: {round((mean_squared_error(y_full_train,y_full_train_pred_lr)),3)}\")\n",
    "print(f\"R^2 full_train data: {round((r2_score(y_full_train,y_full_train_pred_lr)),3)}\")\n",
    "print(f\"MSE test data: {round((mean_squared_error(y_test,y_test_pred_lr)),3)}\")\n",
    "print(f\"R^2 test data: {round((r2_score(y_test,y_test_pred_lr)),3)}\")"
   ]
  },
  {
   "cell_type": "code",
   "execution_count": 57,
   "id": "3cc500fc",
   "metadata": {},
   "outputs": [
    {
     "name": "stdout",
     "output_type": "stream",
     "text": [
      "MSE full_train data: 0.198\n",
      "R^2 full_train data: 0.764\n",
      "MSE test data: 0.189\n",
      "R^2 test data: 0.772\n"
     ]
    }
   ],
   "source": [
    "rr = Ridge(alpha = 0.1)\n",
    "rr.fit(X_full_train, y_full_train)\n",
    "y_full_train_pred_rr = rr.predict(X_full_train)\n",
    "X_test = dv.transform(test_dict)\n",
    "y_test_pred_rr = rr.predict(X_test)\n",
    "print(f\"MSE full_train data: {round((mean_squared_error(y_full_train,y_full_train_pred_rr)),3)}\")\n",
    "print(f\"R^2 full_train data: {round((r2_score(y_full_train,y_full_train_pred_rr)),3)}\")\n",
    "print(f\"MSE test data: {round((mean_squared_error(y_test,y_test_pred_rr)),3)}\")\n",
    "print(f\"R^2 test data: {round((r2_score(y_test,y_test_pred_rr)),3)}\")"
   ]
  },
  {
   "cell_type": "code",
   "execution_count": 58,
   "id": "784e2f5c",
   "metadata": {},
   "outputs": [
    {
     "name": "stdout",
     "output_type": "stream",
     "text": [
      "MSE full_train data: 0.13\n",
      "R^2 full_train data: 0.846\n",
      "MSE test data: 0.147\n",
      "R^2 test data: 0.822\n"
     ]
    }
   ],
   "source": [
    "dt = DecisionTreeRegressor(max_depth=5, min_samples_leaf=10)\n",
    "dt.fit(X_full_train, y_full_train)\n",
    "y_full_train_pred_dt = dt.predict(X_full_train)\n",
    "y_test_pred_dt = dt.predict(X_test)\n",
    "print(f\"MSE full_train data: {round((mean_squared_error(y_full_train,y_full_train_pred_dt)),3)}\")\n",
    "print(f\"R^2 full_train data: {round((r2_score(y_full_train,y_full_train_pred_dt)),3)}\")\n",
    "print(f\"MSE test data: {round((mean_squared_error(y_test,y_test_pred_dt)),3)}\")\n",
    "print(f\"R^2 test data: {round((r2_score(y_test,y_test_pred_dt)),3)}\")"
   ]
  },
  {
   "cell_type": "code",
   "execution_count": 59,
   "id": "a7c1a6fc",
   "metadata": {},
   "outputs": [
    {
     "name": "stdout",
     "output_type": "stream",
     "text": [
      "MSE full_train data: 0.12\n",
      "R^2 full_train data: 0.858\n",
      "MSE test data: 0.134\n",
      "R^2 test data: 0.838\n"
     ]
    }
   ],
   "source": [
    "rf = RandomForestRegressor(n_estimators=10, max_depth=5, min_samples_leaf=1, random_state=1)\n",
    "rf.fit(X_full_train, y_full_train)\n",
    "y_full_train_pred_rf = rf.predict(X_full_train)\n",
    "y_test_pred_rf = rf.predict(X_test)\n",
    "print(f\"MSE full_train data: {round((mean_squared_error(y_full_train,y_full_train_pred_rf)),3)}\")\n",
    "print(f\"R^2 full_train data: {round((r2_score(y_full_train,y_full_train_pred_rf)),3)}\")\n",
    "print(f\"MSE test data: {round((mean_squared_error(y_test,y_test_pred_rf)),3)}\")\n",
    "print(f\"R^2 test data: {round((r2_score(y_test,y_test_pred_rf)),3)}\")\n"
   ]
  },
  {
   "cell_type": "code",
   "execution_count": 60,
   "id": "ccbf3dca",
   "metadata": {},
   "outputs": [
    {
     "name": "stdout",
     "output_type": "stream",
     "text": [
      "MSE full_train data: 0.132\n",
      "R^2 full_train data: 0.843\n",
      "MSE test data: 0.13\n",
      "R^2 test data: 0.843\n"
     ]
    }
   ],
   "source": [
    "et = ExtraTreesRegressor(n_estimators=90, max_depth=5, min_samples_leaf=1, random_state=1)\n",
    "et.fit(X_full_train, y_full_train)\n",
    "y_full_train_pred_et = et.predict(X_full_train)\n",
    "y_test_pred_et = et.predict(X_test)\n",
    "print(f\"MSE full_train data: {round((mean_squared_error(y_full_train,y_full_train_pred_et)),3)}\")\n",
    "print(f\"R^2 full_train data: {round((r2_score(y_full_train,y_full_train_pred_et)),3)}\")\n",
    "print(f\"MSE test data: {round((mean_squared_error(y_test,y_test_pred_et)),3)}\")\n",
    "print(f\"R^2 test data: {round((r2_score(y_test,y_test_pred_et)),3)}\")"
   ]
  },
  {
   "cell_type": "markdown",
   "id": "c7129ea6",
   "metadata": {},
   "source": [
    "Result: Extra Trees Regressor is the best model"
   ]
  },
  {
   "cell_type": "code",
   "execution_count": null,
   "id": "d7a83350",
   "metadata": {},
   "outputs": [],
   "source": []
  }
 ],
 "metadata": {
  "kernelspec": {
   "display_name": "Python 3 (ipykernel)",
   "language": "python",
   "name": "python3"
  },
  "language_info": {
   "codemirror_mode": {
    "name": "ipython",
    "version": 3
   },
   "file_extension": ".py",
   "mimetype": "text/x-python",
   "name": "python",
   "nbconvert_exporter": "python",
   "pygments_lexer": "ipython3",
   "version": "3.8.11"
  }
 },
 "nbformat": 4,
 "nbformat_minor": 5
}
